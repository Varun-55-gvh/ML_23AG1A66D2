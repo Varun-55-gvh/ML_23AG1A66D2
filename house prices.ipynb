{
  "nbformat": 4,
  "nbformat_minor": 0,
  "metadata": {
    "colab": {
      "provenance": [],
      "authorship_tag": "ABX9TyN6AT4eo3sQhKsXZ1C9eNR1",
      "include_colab_link": true
    },
    "kernelspec": {
      "name": "python3",
      "display_name": "Python 3"
    },
    "language_info": {
      "name": "python"
    }
  },
  "cells": [
    {
      "cell_type": "markdown",
      "metadata": {
        "id": "view-in-github",
        "colab_type": "text"
      },
      "source": [
        "<a href=\"https://colab.research.google.com/github/Varun-55-gvh/ML_23AG1A66D2/blob/main/house%20prices.ipynb\" target=\"_parent\"><img src=\"https://colab.research.google.com/assets/colab-badge.svg\" alt=\"Open In Colab\"/></a>"
      ]
    },
    {
      "cell_type": "code",
      "execution_count": 1,
      "metadata": {
        "colab": {
          "base_uri": "https://localhost:8080/"
        },
        "id": "bWRp_hSmttHD",
        "outputId": "cc5f6c5e-545e-4598-b109-fa74e83466cb"
      },
      "outputs": [
        {
          "output_type": "stream",
          "name": "stdout",
          "text": [
            "Mean Squared Error: 2078365499.15\n",
            "\n",
            "Predicted Prices for New Areas:\n",
            "       Area  Bedrooms  Bathrooms  Size (sqft)  Predicted Price\n",
            "0  Downtown         3          2         1600           419231\n",
            "1    Uptown         5          4         2400           719231\n",
            "2    Suburb         2          1         1150           284615\n"
          ]
        }
      ],
      "source": [
        "# ========================\n",
        "# House Price Prediction by Area\n",
        "# ========================\n",
        "\n",
        "import pandas as pd\n",
        "from sklearn.model_selection import train_test_split\n",
        "from sklearn.linear_model import LinearRegression\n",
        "from sklearn.preprocessing import OneHotEncoder\n",
        "from sklearn.compose import ColumnTransformer\n",
        "from sklearn.pipeline import Pipeline\n",
        "from sklearn.metrics import mean_squared_error\n",
        "\n",
        "# ------------------------\n",
        "# 1. Sample Dataset\n",
        "# ------------------------\n",
        "data = {\n",
        "    'Area': ['Downtown', 'Uptown', 'Suburb', 'Downtown', 'Uptown', 'Suburb'],\n",
        "    'Bedrooms': [3, 4, 2, 2, 5, 3],\n",
        "    'Bathrooms': [2, 3, 1, 1, 4, 2],\n",
        "    'Size (sqft)': [1500, 2000, 1200, 1300, 2500, 1600],\n",
        "    'Price': [450000, 600000, 300000, 350000, 750000, 400000]\n",
        "}\n",
        "df = pd.DataFrame(data)\n",
        "\n",
        "# ------------------------\n",
        "# 2. Define Features & Target\n",
        "# ------------------------\n",
        "X = df[['Area', 'Bedrooms', 'Bathrooms', 'Size (sqft)']]\n",
        "y = df['Price']\n",
        "\n",
        "# ------------------------\n",
        "# 3. Preprocessing (One-Hot Encode Area)\n",
        "# ------------------------\n",
        "preprocessor = ColumnTransformer(\n",
        "    transformers=[\n",
        "        ('area', OneHotEncoder(), ['Area'])\n",
        "    ],\n",
        "    remainder='passthrough'\n",
        ")\n",
        "\n",
        "# ------------------------\n",
        "# 4. Build Pipeline\n",
        "# ------------------------\n",
        "model = Pipeline(steps=[\n",
        "    ('preprocessor', preprocessor),\n",
        "    ('regressor', LinearRegression())\n",
        "])\n",
        "\n",
        "# ------------------------\n",
        "# 5. Split Data & Train\n",
        "# ------------------------\n",
        "X_train, X_test, y_train, y_test = train_test_split(X, y, test_size=0.2, random_state=42)\n",
        "model.fit(X_train, y_train)\n",
        "\n",
        "# ------------------------\n",
        "# 6. Evaluate Model\n",
        "# ------------------------\n",
        "y_pred = model.predict(X_test)\n",
        "mse = mean_squared_error(y_test, y_pred)\n",
        "print(f\"Mean Squared Error: {mse:.2f}\")\n",
        "\n",
        "# ------------------------\n",
        "# 7. Predict for New Areas\n",
        "# ------------------------\n",
        "new_data = pd.DataFrame({\n",
        "    'Area': ['Downtown', 'Uptown', 'Suburb'],\n",
        "    'Bedrooms': [3, 5, 2],\n",
        "    'Bathrooms': [2, 4, 1],\n",
        "    'Size (sqft)': [1600, 2400, 1150]\n",
        "})\n",
        "\n",
        "predicted_prices = model.predict(new_data)\n",
        "new_data['Predicted Price'] = predicted_prices.astype(int)\n",
        "\n",
        "print(\"\\nPredicted Prices for New Areas:\")\n",
        "print(new_data)\n"
      ]
    }
  ]
}