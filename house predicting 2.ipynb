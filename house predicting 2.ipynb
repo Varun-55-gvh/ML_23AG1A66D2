{
  "nbformat": 4,
  "nbformat_minor": 0,
  "metadata": {
    "colab": {
      "provenance": [],
      "authorship_tag": "ABX9TyPzqnyKc1N1XLCZu+ijOvJ7",
      "include_colab_link": true
    },
    "kernelspec": {
      "name": "python3",
      "display_name": "Python 3"
    },
    "language_info": {
      "name": "python"
    }
  },
  "cells": [
    {
      "cell_type": "markdown",
      "metadata": {
        "id": "view-in-github",
        "colab_type": "text"
      },
      "source": [
        "<a href=\"https://colab.research.google.com/github/Varun-55-gvh/ML_23AG1A66D2/blob/main/house%20predicting%202.ipynb\" target=\"_parent\"><img src=\"https://colab.research.google.com/assets/colab-badge.svg\" alt=\"Open In Colab\"/></a>"
      ]
    },
    {
      "cell_type": "code",
      "execution_count": 53,
      "metadata": {
        "id": "m6KHYiBvJeRR"
      },
      "outputs": [],
      "source": []
    },
    {
      "cell_type": "code",
      "source": [
        "# Telangana House Price Estimator — Works for Any Location\n",
        "\n",
        "# Region-wise estimated average rates (in ₹ per sq.ft)\n",
        "region_rates = {\n",
        "    \"urban\": 8500,        # Hyderabad, Warangal, etc.\n",
        "    \"semi-urban\": 5500,   # district HQs, towns\n",
        "    \"rural\": 3200         # small villages, mandals\n",
        "}\n",
        "\n",
        "# Known keywords to help classify location\n",
        "urban_keywords = [\n",
        "    \"hyderabad\", \"banjara\", \"jubilee\", \"gachibowli\", \"madhapur\", \"hitech\",\n",
        "    \"ameerpet\", \"kukatpally\", \"warangal\", \"hanamkonda\", \"secunderabad\"\n",
        "]\n",
        "semi_urban_keywords = [\n",
        "    \"nizamabad\", \"karimnagar\", \"khammam\", \"siddipet\", \"adilabad\", \"mahabubnagar\",\n",
        "    \"nalgonda\", \"medchal\", \"suryapet\", \"jagtial\", \"mancherial\", \"miryalaguda\"\n",
        "]\n",
        "# Anything else is assumed rural\n",
        "\n",
        "# Classify the location based on keywords\n",
        "def classify_location(location_name):\n",
        "    location = location_name.lower()\n",
        "    if any(word in location for word in urban_keywords):\n",
        "        return \"urban\"\n",
        "    elif any(word in location for word in semi_urban_keywords):\n",
        "        return \"semi-urban\"\n",
        "    else:\n",
        "        return \"rural\"\n",
        "\n",
        "# Predict house price\n",
        "def predict_price(area, location):\n",
        "    region_type = classify_location(location)\n",
        "    rate = region_rates[region_type]\n",
        "    estimated_price = (area * rate) / 100000  # Convert to lakhs\n",
        "\n",
        "    print(\"\\n🏡 Prediction Result\")\n",
        "    print(f\"📍 Location: {location.title()} (Detected as {region_type})\")\n",
        "    print(f\"📐 Area: {area} sq.ft\")\n",
        "    print(f\"💰 Estimated Price: ₹{estimated_price:.2f} lakhs (Rate: ₹{rate}/sq.ft)\")\n",
        "\n",
        "# --- App Start ---\n",
        "print(\"🏠 Telangana House Price Estimator (Covers All Locations)\")\n",
        "print(\"📌 Works with cities, towns, villages — no CSV or internet needed\\n\")\n",
        "\n",
        "try:\n",
        "    area_input = int(input(\"Enter area in sq.ft: \"))\n",
        "    location_input = input(\"Enter any place in Telangana (village, town, or city): \").strip()\n",
        "    predict_price(area_input, location_input)\n",
        "except ValueError:\n",
        "    print(\"❌ Invalid input! Please enter a valid number for area.\")\n"
      ],
      "metadata": {
        "colab": {
          "base_uri": "https://localhost:8080/"
        },
        "id": "bn0yJD1qUD6C",
        "outputId": "05062ea8-6497-4c2e-f70e-b3829bae59d8"
      },
      "execution_count": 54,
      "outputs": [
        {
          "output_type": "stream",
          "name": "stdout",
          "text": [
            "🏠 Telangana House Price Estimator (Covers All Locations)\n",
            "📌 Works with cities, towns, villages — no CSV or internet needed\n",
            "\n",
            "Enter area in sq.ft: 1000\n",
            "Enter any place in Telangana (village, town, or city): Andanalapadu \n",
            "\n",
            "🏡 Prediction Result\n",
            "📍 Location: Andanalapadu (Detected as rural)\n",
            "📐 Area: 1000 sq.ft\n",
            "💰 Estimated Price: ₹32.00 lakhs (Rate: ₹3200/sq.ft)\n"
          ]
        }
      ]
    }
  ]
}