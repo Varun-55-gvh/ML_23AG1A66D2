{
  "nbformat": 4,
  "nbformat_minor": 0,
  "metadata": {
    "colab": {
      "provenance": [],
      "authorship_tag": "ABX9TyNBt/2+9nFy/iovTaWQ3fNl",
      "include_colab_link": true
    },
    "kernelspec": {
      "name": "python3",
      "display_name": "Python 3"
    },
    "language_info": {
      "name": "python"
    }
  },
  "cells": [
    {
      "cell_type": "markdown",
      "metadata": {
        "id": "view-in-github",
        "colab_type": "text"
      },
      "source": [
        "<a href=\"https://colab.research.google.com/github/Varun-55-gvh/ML_23AG1A66D2/blob/main/DataSet.ipynb\" target=\"_parent\"><img src=\"https://colab.research.google.com/assets/colab-badge.svg\" alt=\"Open In Colab\"/></a>"
      ]
    },
    {
      "cell_type": "code",
      "execution_count": 1,
      "metadata": {
        "colab": {
          "base_uri": "https://localhost:8080/",
          "height": 206
        },
        "id": "iF12whb6SC5P",
        "outputId": "44b24d50-6ac5-499b-d38f-32db9131b6f5"
      },
      "outputs": [
        {
          "output_type": "execute_result",
          "data": {
            "text/plain": [
              "    Name   Age Gender  Marks      City\n",
              "0  Alice  18.0      F   85.0    London\n",
              "1    Bob   NaN      M   90.0  New York\n",
              "2  Cathy  19.0      F   95.0       NaN\n",
              "3  David  17.0      M   72.0    Sydney\n",
              "4    Eva  18.0      F    NaN    London"
            ],
            "text/html": [
              "\n",
              "  <div id=\"df-67927b0f-4814-426b-93b4-e01e2705031d\" class=\"colab-df-container\">\n",
              "    <div>\n",
              "<style scoped>\n",
              "    .dataframe tbody tr th:only-of-type {\n",
              "        vertical-align: middle;\n",
              "    }\n",
              "\n",
              "    .dataframe tbody tr th {\n",
              "        vertical-align: top;\n",
              "    }\n",
              "\n",
              "    .dataframe thead th {\n",
              "        text-align: right;\n",
              "    }\n",
              "</style>\n",
              "<table border=\"1\" class=\"dataframe\">\n",
              "  <thead>\n",
              "    <tr style=\"text-align: right;\">\n",
              "      <th></th>\n",
              "      <th>Name</th>\n",
              "      <th>Age</th>\n",
              "      <th>Gender</th>\n",
              "      <th>Marks</th>\n",
              "      <th>City</th>\n",
              "    </tr>\n",
              "  </thead>\n",
              "  <tbody>\n",
              "    <tr>\n",
              "      <th>0</th>\n",
              "      <td>Alice</td>\n",
              "      <td>18.0</td>\n",
              "      <td>F</td>\n",
              "      <td>85.0</td>\n",
              "      <td>London</td>\n",
              "    </tr>\n",
              "    <tr>\n",
              "      <th>1</th>\n",
              "      <td>Bob</td>\n",
              "      <td>NaN</td>\n",
              "      <td>M</td>\n",
              "      <td>90.0</td>\n",
              "      <td>New York</td>\n",
              "    </tr>\n",
              "    <tr>\n",
              "      <th>2</th>\n",
              "      <td>Cathy</td>\n",
              "      <td>19.0</td>\n",
              "      <td>F</td>\n",
              "      <td>95.0</td>\n",
              "      <td>NaN</td>\n",
              "    </tr>\n",
              "    <tr>\n",
              "      <th>3</th>\n",
              "      <td>David</td>\n",
              "      <td>17.0</td>\n",
              "      <td>M</td>\n",
              "      <td>72.0</td>\n",
              "      <td>Sydney</td>\n",
              "    </tr>\n",
              "    <tr>\n",
              "      <th>4</th>\n",
              "      <td>Eva</td>\n",
              "      <td>18.0</td>\n",
              "      <td>F</td>\n",
              "      <td>NaN</td>\n",
              "      <td>London</td>\n",
              "    </tr>\n",
              "  </tbody>\n",
              "</table>\n",
              "</div>\n",
              "    <div class=\"colab-df-buttons\">\n",
              "\n",
              "  <div class=\"colab-df-container\">\n",
              "    <button class=\"colab-df-convert\" onclick=\"convertToInteractive('df-67927b0f-4814-426b-93b4-e01e2705031d')\"\n",
              "            title=\"Convert this dataframe to an interactive table.\"\n",
              "            style=\"display:none;\">\n",
              "\n",
              "  <svg xmlns=\"http://www.w3.org/2000/svg\" height=\"24px\" viewBox=\"0 -960 960 960\">\n",
              "    <path d=\"M120-120v-720h720v720H120Zm60-500h600v-160H180v160Zm220 220h160v-160H400v160Zm0 220h160v-160H400v160ZM180-400h160v-160H180v160Zm440 0h160v-160H620v160ZM180-180h160v-160H180v160Zm440 0h160v-160H620v160Z\"/>\n",
              "  </svg>\n",
              "    </button>\n",
              "\n",
              "  <style>\n",
              "    .colab-df-container {\n",
              "      display:flex;\n",
              "      gap: 12px;\n",
              "    }\n",
              "\n",
              "    .colab-df-convert {\n",
              "      background-color: #E8F0FE;\n",
              "      border: none;\n",
              "      border-radius: 50%;\n",
              "      cursor: pointer;\n",
              "      display: none;\n",
              "      fill: #1967D2;\n",
              "      height: 32px;\n",
              "      padding: 0 0 0 0;\n",
              "      width: 32px;\n",
              "    }\n",
              "\n",
              "    .colab-df-convert:hover {\n",
              "      background-color: #E2EBFA;\n",
              "      box-shadow: 0px 1px 2px rgba(60, 64, 67, 0.3), 0px 1px 3px 1px rgba(60, 64, 67, 0.15);\n",
              "      fill: #174EA6;\n",
              "    }\n",
              "\n",
              "    .colab-df-buttons div {\n",
              "      margin-bottom: 4px;\n",
              "    }\n",
              "\n",
              "    [theme=dark] .colab-df-convert {\n",
              "      background-color: #3B4455;\n",
              "      fill: #D2E3FC;\n",
              "    }\n",
              "\n",
              "    [theme=dark] .colab-df-convert:hover {\n",
              "      background-color: #434B5C;\n",
              "      box-shadow: 0px 1px 3px 1px rgba(0, 0, 0, 0.15);\n",
              "      filter: drop-shadow(0px 1px 2px rgba(0, 0, 0, 0.3));\n",
              "      fill: #FFFFFF;\n",
              "    }\n",
              "  </style>\n",
              "\n",
              "    <script>\n",
              "      const buttonEl =\n",
              "        document.querySelector('#df-67927b0f-4814-426b-93b4-e01e2705031d button.colab-df-convert');\n",
              "      buttonEl.style.display =\n",
              "        google.colab.kernel.accessAllowed ? 'block' : 'none';\n",
              "\n",
              "      async function convertToInteractive(key) {\n",
              "        const element = document.querySelector('#df-67927b0f-4814-426b-93b4-e01e2705031d');\n",
              "        const dataTable =\n",
              "          await google.colab.kernel.invokeFunction('convertToInteractive',\n",
              "                                                    [key], {});\n",
              "        if (!dataTable) return;\n",
              "\n",
              "        const docLinkHtml = 'Like what you see? Visit the ' +\n",
              "          '<a target=\"_blank\" href=https://colab.research.google.com/notebooks/data_table.ipynb>data table notebook</a>'\n",
              "          + ' to learn more about interactive tables.';\n",
              "        element.innerHTML = '';\n",
              "        dataTable['output_type'] = 'display_data';\n",
              "        await google.colab.output.renderOutput(dataTable, element);\n",
              "        const docLink = document.createElement('div');\n",
              "        docLink.innerHTML = docLinkHtml;\n",
              "        element.appendChild(docLink);\n",
              "      }\n",
              "    </script>\n",
              "  </div>\n",
              "\n",
              "\n",
              "    <div id=\"df-364bc797-d1a0-43bf-a3c9-d879cf6445ac\">\n",
              "      <button class=\"colab-df-quickchart\" onclick=\"quickchart('df-364bc797-d1a0-43bf-a3c9-d879cf6445ac')\"\n",
              "                title=\"Suggest charts\"\n",
              "                style=\"display:none;\">\n",
              "\n",
              "<svg xmlns=\"http://www.w3.org/2000/svg\" height=\"24px\"viewBox=\"0 0 24 24\"\n",
              "     width=\"24px\">\n",
              "    <g>\n",
              "        <path d=\"M19 3H5c-1.1 0-2 .9-2 2v14c0 1.1.9 2 2 2h14c1.1 0 2-.9 2-2V5c0-1.1-.9-2-2-2zM9 17H7v-7h2v7zm4 0h-2V7h2v10zm4 0h-2v-4h2v4z\"/>\n",
              "    </g>\n",
              "</svg>\n",
              "      </button>\n",
              "\n",
              "<style>\n",
              "  .colab-df-quickchart {\n",
              "      --bg-color: #E8F0FE;\n",
              "      --fill-color: #1967D2;\n",
              "      --hover-bg-color: #E2EBFA;\n",
              "      --hover-fill-color: #174EA6;\n",
              "      --disabled-fill-color: #AAA;\n",
              "      --disabled-bg-color: #DDD;\n",
              "  }\n",
              "\n",
              "  [theme=dark] .colab-df-quickchart {\n",
              "      --bg-color: #3B4455;\n",
              "      --fill-color: #D2E3FC;\n",
              "      --hover-bg-color: #434B5C;\n",
              "      --hover-fill-color: #FFFFFF;\n",
              "      --disabled-bg-color: #3B4455;\n",
              "      --disabled-fill-color: #666;\n",
              "  }\n",
              "\n",
              "  .colab-df-quickchart {\n",
              "    background-color: var(--bg-color);\n",
              "    border: none;\n",
              "    border-radius: 50%;\n",
              "    cursor: pointer;\n",
              "    display: none;\n",
              "    fill: var(--fill-color);\n",
              "    height: 32px;\n",
              "    padding: 0;\n",
              "    width: 32px;\n",
              "  }\n",
              "\n",
              "  .colab-df-quickchart:hover {\n",
              "    background-color: var(--hover-bg-color);\n",
              "    box-shadow: 0 1px 2px rgba(60, 64, 67, 0.3), 0 1px 3px 1px rgba(60, 64, 67, 0.15);\n",
              "    fill: var(--button-hover-fill-color);\n",
              "  }\n",
              "\n",
              "  .colab-df-quickchart-complete:disabled,\n",
              "  .colab-df-quickchart-complete:disabled:hover {\n",
              "    background-color: var(--disabled-bg-color);\n",
              "    fill: var(--disabled-fill-color);\n",
              "    box-shadow: none;\n",
              "  }\n",
              "\n",
              "  .colab-df-spinner {\n",
              "    border: 2px solid var(--fill-color);\n",
              "    border-color: transparent;\n",
              "    border-bottom-color: var(--fill-color);\n",
              "    animation:\n",
              "      spin 1s steps(1) infinite;\n",
              "  }\n",
              "\n",
              "  @keyframes spin {\n",
              "    0% {\n",
              "      border-color: transparent;\n",
              "      border-bottom-color: var(--fill-color);\n",
              "      border-left-color: var(--fill-color);\n",
              "    }\n",
              "    20% {\n",
              "      border-color: transparent;\n",
              "      border-left-color: var(--fill-color);\n",
              "      border-top-color: var(--fill-color);\n",
              "    }\n",
              "    30% {\n",
              "      border-color: transparent;\n",
              "      border-left-color: var(--fill-color);\n",
              "      border-top-color: var(--fill-color);\n",
              "      border-right-color: var(--fill-color);\n",
              "    }\n",
              "    40% {\n",
              "      border-color: transparent;\n",
              "      border-right-color: var(--fill-color);\n",
              "      border-top-color: var(--fill-color);\n",
              "    }\n",
              "    60% {\n",
              "      border-color: transparent;\n",
              "      border-right-color: var(--fill-color);\n",
              "    }\n",
              "    80% {\n",
              "      border-color: transparent;\n",
              "      border-right-color: var(--fill-color);\n",
              "      border-bottom-color: var(--fill-color);\n",
              "    }\n",
              "    90% {\n",
              "      border-color: transparent;\n",
              "      border-bottom-color: var(--fill-color);\n",
              "    }\n",
              "  }\n",
              "</style>\n",
              "\n",
              "      <script>\n",
              "        async function quickchart(key) {\n",
              "          const quickchartButtonEl =\n",
              "            document.querySelector('#' + key + ' button');\n",
              "          quickchartButtonEl.disabled = true;  // To prevent multiple clicks.\n",
              "          quickchartButtonEl.classList.add('colab-df-spinner');\n",
              "          try {\n",
              "            const charts = await google.colab.kernel.invokeFunction(\n",
              "                'suggestCharts', [key], {});\n",
              "          } catch (error) {\n",
              "            console.error('Error during call to suggestCharts:', error);\n",
              "          }\n",
              "          quickchartButtonEl.classList.remove('colab-df-spinner');\n",
              "          quickchartButtonEl.classList.add('colab-df-quickchart-complete');\n",
              "        }\n",
              "        (() => {\n",
              "          let quickchartButtonEl =\n",
              "            document.querySelector('#df-364bc797-d1a0-43bf-a3c9-d879cf6445ac button');\n",
              "          quickchartButtonEl.style.display =\n",
              "            google.colab.kernel.accessAllowed ? 'block' : 'none';\n",
              "        })();\n",
              "      </script>\n",
              "    </div>\n",
              "\n",
              "    </div>\n",
              "  </div>\n"
            ],
            "application/vnd.google.colaboratory.intrinsic+json": {
              "type": "dataframe",
              "variable_name": "DataSet",
              "summary": "{\n  \"name\": \"DataSet\",\n  \"rows\": 5,\n  \"fields\": [\n    {\n      \"column\": \"Name\",\n      \"properties\": {\n        \"dtype\": \"string\",\n        \"num_unique_values\": 5,\n        \"samples\": [\n          \"Bob\",\n          \"Eva\",\n          \"Cathy\"\n        ],\n        \"semantic_type\": \"\",\n        \"description\": \"\"\n      }\n    },\n    {\n      \"column\": \"Age\",\n      \"properties\": {\n        \"dtype\": \"number\",\n        \"std\": 0.816496580927726,\n        \"min\": 17.0,\n        \"max\": 19.0,\n        \"num_unique_values\": 3,\n        \"samples\": [\n          18.0,\n          19.0,\n          17.0\n        ],\n        \"semantic_type\": \"\",\n        \"description\": \"\"\n      }\n    },\n    {\n      \"column\": \"Gender\",\n      \"properties\": {\n        \"dtype\": \"category\",\n        \"num_unique_values\": 2,\n        \"samples\": [\n          \"M\",\n          \"F\"\n        ],\n        \"semantic_type\": \"\",\n        \"description\": \"\"\n      }\n    },\n    {\n      \"column\": \"Marks\",\n      \"properties\": {\n        \"dtype\": \"number\",\n        \"std\": 9.882644720249063,\n        \"min\": 72.0,\n        \"max\": 95.0,\n        \"num_unique_values\": 4,\n        \"samples\": [\n          90.0,\n          72.0\n        ],\n        \"semantic_type\": \"\",\n        \"description\": \"\"\n      }\n    },\n    {\n      \"column\": \"City\",\n      \"properties\": {\n        \"dtype\": \"string\",\n        \"num_unique_values\": 3,\n        \"samples\": [\n          \"London\",\n          \"New York\"\n        ],\n        \"semantic_type\": \"\",\n        \"description\": \"\"\n      }\n    }\n  ]\n}"
            }
          },
          "metadata": {},
          "execution_count": 1
        }
      ],
      "source": [
        "import pandas as pd\n",
        "DataSet=pd.read_csv('Name-Age-Marks-City.csv')\n",
        "DataSet.head()"
      ]
    },
    {
      "cell_type": "markdown",
      "source": [
        "# New Section"
      ],
      "metadata": {
        "id": "snvHcl2Lfolw"
      }
    },
    {
      "cell_type": "code",
      "source": [
        "DataSet.fillna({\n",
        "    'Age':DataSet['Age'].mean(),\n",
        "    'Marks':DataSet['Marks'].mean(),\n",
        "    'City':'Unknown'\n",
        "},inplace=True)\n",
        "print(DataSet)"
      ],
      "metadata": {
        "colab": {
          "base_uri": "https://localhost:8080/"
        },
        "id": "jAPE6nLTbmCM",
        "outputId": "a3f207c3-8bee-4511-bbe7-bd4fe5fc0359"
      },
      "execution_count": null,
      "outputs": [
        {
          "output_type": "stream",
          "name": "stdout",
          "text": [
            "   Name    Age  Gender  Marks      City\n",
            "0  Alice  18.0       0   85.0    London\n",
            "1    Bob  18.0       1   90.0  New York\n",
            "2  Cathy  19.0       0   95.0   Unknown\n",
            "3  David  17.0       1   72.0    Sydney\n",
            "4    Eva  18.0       0   85.5    London\n"
          ]
        }
      ]
    },
    {
      "cell_type": "code",
      "source": [
        "import pandas as pd\n",
        "#Create example data including duplicates\n",
        "data = {\n",
        "    'Name':['Alice','Bob','Alice'],\n",
        "    'Age':[18,18,18],\n",
        "    'Gender':['F','M','F'],\n",
        "    'Marks':[85, 90, 85]\n",
        "}\n",
        "df = pd.DataFrame(data)\n",
        "print(\"original Data:\")\n",
        "print(df)"
      ],
      "metadata": {
        "colab": {
          "base_uri": "https://localhost:8080/"
        },
        "id": "bl-Vz3z7f55c",
        "outputId": "aa780757-cbb3-4825-f1f4-b2971120eea2"
      },
      "execution_count": null,
      "outputs": [
        {
          "output_type": "stream",
          "name": "stdout",
          "text": [
            "original Data:\n",
            "    Name  Age Gender  Marks\n",
            "0  Alice   18      F     85\n",
            "1    Bob   18      M     90\n",
            "2  Alice   18      F     85\n"
          ]
        }
      ]
    },
    {
      "cell_type": "code",
      "source": [
        "#Remove duplicates across all columns\n",
        "df_no_duplicates = df.drop_duplicates()\n",
        "print(\"\\nAfter Removing Duplicates:\")\n",
        "print(df_no_duplicates)"
      ],
      "metadata": {
        "colab": {
          "base_uri": "https://localhost:8080/"
        },
        "id": "QhrgCf-Jhnb8",
        "outputId": "6d4fd67f-d855-41da-efd1-a5fdc97de9c6"
      },
      "execution_count": null,
      "outputs": [
        {
          "output_type": "stream",
          "name": "stdout",
          "text": [
            "\n",
            "After Removing Duplicates:\n",
            "    Name  Age Gender  Marks\n",
            "0  Alice   18      F     85\n",
            "1    Bob   18      M     90\n"
          ]
        }
      ]
    },
    {
      "cell_type": "markdown",
      "source": [
        "checking the datatype\n"
      ],
      "metadata": {
        "id": "ugNlOZ2aYHlR"
      }
    },
    {
      "cell_type": "code",
      "source": [
        "import pandas as pd\n",
        "df = pd.DataFrame({\n",
        "    'Name': ['john','Alice'],\n",
        "    'Age': ['25','30'],\n",
        "    'Salary': ['50000','55000']\n",
        "})\n",
        "print(df.dtypes)"
      ],
      "metadata": {
        "colab": {
          "base_uri": "https://localhost:8080/"
        },
        "id": "58LL1329YMkn",
        "outputId": "a0da9322-73d1-4179-8ba6-1f216cf9d484"
      },
      "execution_count": null,
      "outputs": [
        {
          "output_type": "stream",
          "name": "stdout",
          "text": [
            "Name      object\n",
            "Age       object\n",
            "Salary    object\n",
            "dtype: object\n"
          ]
        }
      ]
    },
    {
      "cell_type": "markdown",
      "source": [
        "convert specific columns to desired types:"
      ],
      "metadata": {
        "id": "F0kxHgkuavDI"
      }
    },
    {
      "cell_type": "code",
      "source": [
        "\n",
        "df['Age'] = df['Age'].astype(int)       #To  integer\n",
        "df['Salary'] = df['Salary'].astype(float) #To float\n",
        "print(df.dtypes)"
      ],
      "metadata": {
        "colab": {
          "base_uri": "https://localhost:8080/"
        },
        "id": "sYIzgIawaNQY",
        "outputId": "108d8f09-b378-4df1-dbad-34d47b07b1d0"
      },
      "execution_count": null,
      "outputs": [
        {
          "output_type": "stream",
          "name": "stdout",
          "text": [
            "Name       object\n",
            "Age         int64\n",
            "Salary    float64\n",
            "dtype: object\n"
          ]
        }
      ]
    },
    {
      "cell_type": "markdown",
      "source": [
        "if your data may have invalid values((numbers and words)),force conversion and set errors to \"NaN\""
      ],
      "metadata": {
        "id": "tLR2iiG4ck0P"
      }
    },
    {
      "cell_type": "code",
      "source": [
        "df['Age'] = pd.to_numeric(df['Age'], errors='coerce')\n",
        "print(df.dtypes)"
      ],
      "metadata": {
        "colab": {
          "base_uri": "https://localhost:8080/"
        },
        "id": "xpoEYflidAhl",
        "outputId": "429a3b6d-dd44-4441-de5e-ee00eea1fc77"
      },
      "execution_count": null,
      "outputs": [
        {
          "output_type": "stream",
          "name": "stdout",
          "text": [
            "Name       object\n",
            "Age         int64\n",
            "Salary    float64\n",
            "dtype: object\n"
          ]
        }
      ]
    },
    {
      "cell_type": "markdown",
      "source": [
        "convert text categories into numbers for analysis\n"
      ],
      "metadata": {
        "id": "KKbWEJuTeaWG"
      }
    },
    {
      "cell_type": "code",
      "source": [
        "DataSet['Gender']=DataSet['Gender'].map({'F':0,'M':1})\n",
        "print(DataSet)"
      ],
      "metadata": {
        "colab": {
          "base_uri": "https://localhost:8080/"
        },
        "id": "gmlpw21uek9N",
        "outputId": "68d99f3c-46d2-4083-c733-22494509a91d"
      },
      "execution_count": null,
      "outputs": [
        {
          "output_type": "stream",
          "name": "stdout",
          "text": [
            "   Name    Age  Gender  Marks      City\n",
            "0  Alice  18.0       0   85.0    London\n",
            "1    Bob   NaN       1   90.0  New York\n",
            "2  Cathy  19.0       0   95.0       NaN\n",
            "3  David  17.0       1   72.0    Sydney\n",
            "4    Eva  18.0       0    NaN    London\n"
          ]
        }
      ]
    },
    {
      "cell_type": "markdown",
      "source": [
        "Use one hot encoding for city"
      ],
      "metadata": {
        "id": "sfkRxyIpkurs"
      }
    },
    {
      "cell_type": "code",
      "source": [
        "DataSet = pd.get_dummies(DataSet,columns=['City'])\n",
        "print(DataSet)"
      ],
      "metadata": {
        "colab": {
          "base_uri": "https://localhost:8080/"
        },
        "id": "PjTXRZHfkOw0",
        "outputId": "89aac0fe-07c5-467d-c82b-7f8386253850"
      },
      "execution_count": null,
      "outputs": [
        {
          "output_type": "stream",
          "name": "stdout",
          "text": [
            "   Name    Age  Gender  Marks  City_London  City_New York  City_Sydney  \\\n",
            "0  Alice  18.0       0   85.0         True          False        False   \n",
            "1    Bob  18.0       1   90.0        False           True        False   \n",
            "2  Cathy  19.0       0   95.0        False          False        False   \n",
            "3  David  17.0       1   72.0        False          False         True   \n",
            "4    Eva  18.0       0   85.5         True          False        False   \n",
            "\n",
            "   City_Unknown  \n",
            "0         False  \n",
            "1         False  \n",
            "2          True  \n",
            "3         False  \n",
            "4         False  \n"
          ]
        }
      ]
    },
    {
      "cell_type": "markdown",
      "source": [
        "feature scaling\n"
      ],
      "metadata": {
        "id": "axdtISdn0j2f"
      }
    },
    {
      "cell_type": "code",
      "source": [
        "from sklearn.preprocessing import MinMaxScaler\n",
        "scaler = MinMaxScaler()\n",
        "DataSet['Marks'] = scaler.fit_transform(DataSet[['Marks']])\n",
        "print(DataSet)"
      ],
      "metadata": {
        "colab": {
          "base_uri": "https://localhost:8080/"
        },
        "id": "8lxYTTaSyNjH",
        "outputId": "3024498d-ed87-4214-c686-153f353094b5"
      },
      "execution_count": 4,
      "outputs": [
        {
          "output_type": "stream",
          "name": "stdout",
          "text": [
            "    Name   Age Gender     Marks      City\n",
            "0  Alice  18.0      F  0.565217    London\n",
            "1    Bob   NaN      M  0.782609  New York\n",
            "2  Cathy  19.0      F  1.000000       NaN\n",
            "3  David  17.0      M  0.000000    Sydney\n",
            "4    Eva  18.0      F       NaN    London\n"
          ]
        }
      ]
    },
    {
      "cell_type": "code",
      "source": [
        "import pandas as pd\n",
        "data = {\n",
        "    'Name': ['Alice', 'Bob', 'Cathy','David'],\n",
        "    'Age': [18, 20, 22,19],\n",
        "    'Gender': ['F', 'M', 'F','M'],\n",
        "    'Marks': [85, 90, 78,88]\n",
        "}\n",
        "df=pd.DataFrame(data)\n",
        "print(df)"
      ],
      "metadata": {
        "colab": {
          "base_uri": "https://localhost:8080/"
        },
        "id": "DMWmmDAz1uB_",
        "outputId": "905bd173-f46c-4e81-d6cf-765a7e2e89cc"
      },
      "execution_count": 5,
      "outputs": [
        {
          "output_type": "stream",
          "name": "stdout",
          "text": [
            "    Name  Age Gender  Marks\n",
            "0  Alice   18      F     85\n",
            "1    Bob   20      M     90\n",
            "2  Cathy   22      F     78\n",
            "3  David   19      M     88\n"
          ]
        }
      ]
    },
    {
      "cell_type": "markdown",
      "source": [],
      "metadata": {
        "id": "nxrNSyQY0iaX"
      }
    },
    {
      "cell_type": "markdown",
      "source": [
        "New feature: grade (based on marks)"
      ],
      "metadata": {
        "id": "e3kMjwZN2I5W"
      }
    },
    {
      "cell_type": "code",
      "source": [
        "def grade(marks):\n",
        "    if marks >= 85:\n",
        "        return 'A'\n",
        "    elif marks >= 70:\n",
        "        return 'B'\n",
        "    else:\n",
        "        return 'C'\n",
        "\n",
        "df['Grade'] = df['Marks'].apply(grade)\n",
        "print(df)"
      ],
      "metadata": {
        "colab": {
          "base_uri": "https://localhost:8080/"
        },
        "id": "K4XUpWQG2ITm",
        "outputId": "87ea61b5-cdae-4d02-fe15-bcace132cc94"
      },
      "execution_count": 11,
      "outputs": [
        {
          "output_type": "stream",
          "name": "stdout",
          "text": [
            "    Name  Age Gender  Marks Grade\n",
            "0  Alice   18      F     85     A\n",
            "1    Bob   20      M     90     A\n",
            "2  Cathy   22      F     78     B\n",
            "3  David   19      M     88     A\n"
          ]
        }
      ]
    },
    {
      "cell_type": "markdown",
      "source": [
        "New feature: Age Group (from Age)"
      ],
      "metadata": {
        "id": "6kSl5rCl3UoX"
      }
    },
    {
      "cell_type": "code",
      "source": [
        "bins = [0, 18, 21, 100]\n",
        "labels = ['Teen', 'Young Adult', 'Adult']\n",
        "df['Age Group'] = pd.cut(df['Age'], bins=bins, labels=labels)\n",
        "print(df)"
      ],
      "metadata": {
        "colab": {
          "base_uri": "https://localhost:8080/"
        },
        "id": "uGiGDbiA3e_X",
        "outputId": "15edc9ac-bf76-42e8-e28c-16f3bdd3d3cf"
      },
      "execution_count": 12,
      "outputs": [
        {
          "output_type": "stream",
          "name": "stdout",
          "text": [
            "    Name  Age Gender  Marks Grade    Age Group\n",
            "0  Alice   18      F     85     A         Teen\n",
            "1    Bob   20      M     90     A  Young Adult\n",
            "2  Cathy   22      F     78     B        Adult\n",
            "3  David   19      M     88     A  Young Adult\n"
          ]
        }
      ]
    },
    {
      "cell_type": "markdown",
      "source": [
        "Removing outliers"
      ],
      "metadata": {
        "id": "kmNUI3emb0ol"
      }
    },
    {
      "cell_type": "code",
      "source": [
        "DataSet=pd.read_csv('Name-Age-Marks-City.csv')\n",
        "DataSet = DataSet[(DataSet['Marks'] >= 60) & (DataSet['Marks'] <= 100)]\n",
        "print(DataSet)"
      ],
      "metadata": {
        "colab": {
          "base_uri": "https://localhost:8080/"
        },
        "id": "_iCDkFMDcBKN",
        "outputId": "67cfcf2b-91f4-499a-8ef6-5b2060964556"
      },
      "execution_count": 16,
      "outputs": [
        {
          "output_type": "stream",
          "name": "stdout",
          "text": [
            "    Name   Age Gender  Marks      City\n",
            "0  Alice  18.0      F   85.0    London\n",
            "1    Bob   NaN      M   90.0  New York\n",
            "2  Cathy  19.0      F   95.0       NaN\n",
            "3  David  17.0      M   72.0    Sydney\n"
          ]
        }
      ]
    },
    {
      "cell_type": "markdown",
      "source": [
        "Splitting Data for Training and Testing"
      ],
      "metadata": {
        "id": "no0GmkgCdfpW"
      }
    },
    {
      "cell_type": "code",
      "source": [
        "from sklearn.model_selection import train_test_split\n",
        "train, test = train_test_split(df, test_size=0.2)\n",
        "print(\"Train Data:\\n\", train)\n",
        "print(\"Test Data:\\n\", test)"
      ],
      "metadata": {
        "colab": {
          "base_uri": "https://localhost:8080/"
        },
        "id": "do4y92X3dpPl",
        "outputId": "b7827e36-bcd4-43f9-bfe8-f5153264f754"
      },
      "execution_count": 20,
      "outputs": [
        {
          "output_type": "stream",
          "name": "stdout",
          "text": [
            "Train Data:\n",
            "     Name  Age Gender  Marks Grade    Age Group\n",
            "3  David   19      M     88     A  Young Adult\n",
            "1    Bob   20      M     90     A  Young Adult\n",
            "0  Alice   18      F     85     A         Teen\n",
            "Test Data:\n",
            "     Name  Age Gender  Marks Grade Age Group\n",
            "2  Cathy   22      F     78     B     Adult\n"
          ]
        }
      ]
    }
  ]
}