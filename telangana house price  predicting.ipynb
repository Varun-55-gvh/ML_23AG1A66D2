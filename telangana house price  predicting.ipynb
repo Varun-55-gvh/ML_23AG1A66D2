{
  "nbformat": 4,
  "nbformat_minor": 0,
  "metadata": {
    "colab": {
      "provenance": [],
      "authorship_tag": "ABX9TyO4opr6Bj3kkIX339HyAy9D",
      "include_colab_link": true
    },
    "kernelspec": {
      "name": "python3",
      "display_name": "Python 3"
    },
    "language_info": {
      "name": "python"
    }
  },
  "cells": [
    {
      "cell_type": "markdown",
      "metadata": {
        "id": "view-in-github",
        "colab_type": "text"
      },
      "source": [
        "<a href=\"https://colab.research.google.com/github/Varun-55-gvh/ML_23AG1A66D2/blob/main/telangana%20house%20price%20%20predicting.ipynb\" target=\"_parent\"><img src=\"https://colab.research.google.com/assets/colab-badge.svg\" alt=\"Open In Colab\"/></a>"
      ]
    },
    {
      "cell_type": "code",
      "execution_count": 24,
      "metadata": {
        "colab": {
          "base_uri": "https://localhost:8080/"
        },
        "id": "m6KHYiBvJeRR",
        "outputId": "4371386e-bbe3-412e-b643-7b6b966b8ec7"
      },
      "outputs": [
        {
          "output_type": "stream",
          "name": "stdout",
          "text": [
            "🏡 Telangana House Price Estimator (Open to Any Location)\n",
            "ℹ️ Note: This model estimates price based on area only (location-neutral).\n",
            "\n",
            "Enter area in sq.ft: 100\n",
            "Enter any location in Telangana: karunagiri\n",
            "\n",
            "✅ Prediction Result:\n",
            "📍 Location: Karunagiri (Estimate Based on Area Only)\n",
            "📐 Area: 100 sq.ft\n",
            "💰 Estimated Price: ₹2.35 lakhs\n"
          ]
        },
        {
          "output_type": "stream",
          "name": "stderr",
          "text": [
            "/usr/local/lib/python3.12/dist-packages/sklearn/utils/validation.py:2739: UserWarning: X does not have valid feature names, but LinearRegression was fitted with feature names\n",
            "  warnings.warn(\n"
          ]
        }
      ],
      "source": [
        "import pandas as pd\n",
        "from sklearn.linear_model import LinearRegression\n",
        "\n",
        "# Sample dataset (area-based, not tied to fixed locations)\n",
        "data = {\n",
        "    'Area': [\n",
        "        1000, 1200, 1500, 1800, 2000, 2200, 2500, 2700, 3000,\n",
        "        1100, 1300, 1600, 1900, 2100, 2300, 2600, 2800, 3100,\n",
        "        1050, 1250, 1550, 1850, 2050, 2250, 2550, 2750, 3050\n",
        "    ],\n",
        "    'Price': [\n",
        "        30, 36, 45, 52, 60, 66, 75, 81, 90,\n",
        "        33, 39, 48, 54, 63, 69, 78, 84, 93,\n",
        "        31, 37, 46, 53, 61, 67, 76, 82, 91\n",
        "    ]  # Price in lakhs\n",
        "}\n",
        "\n",
        "df = pd.DataFrame(data)\n",
        "\n",
        "# Train model on area only\n",
        "X = df[['Area']]\n",
        "y = df['Price']\n",
        "\n",
        "model = LinearRegression()\n",
        "model.fit(X, y)\n",
        "\n",
        "# Prediction function\n",
        "def predict_price_anywhere(area, location):\n",
        "    predicted_price = model.predict([[area]])[0]\n",
        "    print(\"\\n✅ Prediction Result:\")\n",
        "    print(f\"📍 Location: {location.title()} (Estimate Based on Area Only)\")\n",
        "    print(f\"📐 Area: {area} sq.ft\")\n",
        "    print(f\"💰 Estimated Price: ₹{round(predicted_price, 2)} lakhs\")\n",
        "\n",
        "# User interaction\n",
        "print(\"🏡 Telangana House Price Estimator (Open to Any Location)\")\n",
        "print(\"ℹ️ Note: This model estimates price based on area only (location-neutral).\")\n",
        "\n",
        "try:\n",
        "    area_input = int(input(\"\\nEnter area in sq.ft: \"))\n",
        "    location_input = input(\"Enter any location in Telangana: \").strip()\n",
        "\n",
        "    predict_price_anywhere(area_input, location_input)\n",
        "except ValueError:\n",
        "    print(\"❌ Invalid input. Please enter numeric area.\")\n"
      ]
    }
  ]
}